{
  "nbformat": 4,
  "nbformat_minor": 0,
  "metadata": {
    "colab": {
      "name": "A2_CT2_18101045.ipynb",
      "provenance": [],
      "authorship_tag": "ABX9TyMkqo92LiPgDiPA1gyk+kx0",
      "include_colab_link": true
    },
    "kernelspec": {
      "name": "python3",
      "display_name": "Python 3"
    }
  },
  "cells": [
    {
      "cell_type": "markdown",
      "metadata": {
        "id": "view-in-github",
        "colab_type": "text"
      },
      "source": [
        "<a href=\"https://colab.research.google.com/github/BrishtyBilash/CSE-310/blob/master/A2_CT2_18101045.ipynb\" target=\"_parent\"><img src=\"https://colab.research.google.com/assets/colab-badge.svg\" alt=\"Open In Colab\"/></a>"
      ]
    },
    {
      "cell_type": "markdown",
      "metadata": {
        "id": "dp0w_q4Lbok3",
        "colab_type": "text"
      },
      "source": [
        "Q1:Write a python code to determine odd or even.\t\t\t\t[2]\n",
        "Input:\n",
        "5\n",
        "Output:\n",
        "Odd\n"
      ]
    },
    {
      "cell_type": "code",
      "metadata": {
        "id": "quYaVLP3Vubw",
        "colab_type": "code",
        "colab": {
          "base_uri": "https://localhost:8080/",
          "height": 50
        },
        "outputId": "cfdcc2d2-cabd-4e9a-f41a-0c0a563292c3"
      },
      "source": [
        "a=int(input())\n",
        "if (a%2==0):\n",
        "  print(\"Even\")\n",
        "else : \n",
        "  print(\"Odd\")  "
      ],
      "execution_count": null,
      "outputs": [
        {
          "output_type": "stream",
          "text": [
            "5\n",
            "Odd\n"
          ],
          "name": "stdout"
        }
      ]
    },
    {
      "cell_type": "markdown",
      "metadata": {
        "id": "4z06lr50fkn8",
        "colab_type": "text"
      },
      "source": [
        "Q2:Write a python program to calculate the letter grade of an H.S.C exam. The exam mark will be given as input. Follow the standard rule for grading.\t\t\t[4]\n",
        "Input:\n",
        "82\n",
        "Output:\n",
        "A+\n"
      ]
    },
    {
      "cell_type": "code",
      "metadata": {
        "id": "mbwXrYoJfrJJ",
        "colab_type": "code",
        "colab": {
          "base_uri": "https://localhost:8080/",
          "height": 50
        },
        "outputId": "958c3805-085b-482d-d491-54280004e895"
      },
      "source": [
        "a=float(input())\n",
        "if(80<=a<=100):\n",
        "  print(\"A+\")\n",
        "elif(70<=a<80):\n",
        "  print(\"A\")\n",
        "elif(60<=a<70):\n",
        "  print(\"A-\")\n",
        "elif(50<=a<60):\n",
        "  print(\"B\")\n",
        "elif(40<=a<50):\n",
        "  print(\"C\")\n",
        "elif(33<=a<40):\n",
        "  print(\"D\")\n",
        "else :\n",
        "  print(\"F\")"
      ],
      "execution_count": null,
      "outputs": [
        {
          "output_type": "stream",
          "text": [
            "82\n",
            "A+\n"
          ],
          "name": "stdout"
        }
      ]
    },
    {
      "cell_type": "markdown",
      "metadata": {
        "id": "Ze2CaUSwhKB7",
        "colab_type": "text"
      },
      "source": [
        "Q3:Given a string of length 12, divide the string into 4 parts of length 3. Then swap the first part with the last part. Output the final string. \t\t\t\t[6]\n",
        "Example:\n",
        "Given String: “ABCDEFGHIJKL”\n",
        "4 parts of the string: “ABC”, “DEF”, “GHI”, “JKL”\n",
        "Swap the first and last part: “JKL”,  “DEF”, “GHI”, “ABC”\n",
        "Output: ‘JKLDEFGHIABC’\n"
      ]
    },
    {
      "cell_type": "code",
      "metadata": {
        "id": "XdqvbnuCnKEv",
        "colab_type": "code",
        "colab": {
          "base_uri": "https://localhost:8080/",
          "height": 50
        },
        "outputId": "e0f1e854-d88a-430e-ce13-087ed51582b0"
      },
      "source": [
        "a=\"ABCDEFGHIJKL\"\n",
        "L1=\"ABC\"\n",
        "L2=\"DEF\"\n",
        "L3=\"GHI\"\n",
        "L4=\"JKL\"\n",
        "List=[L1,L2,L3,L4]\n",
        "print(List)\n",
        "List[1],List[3] = List[3],List[1]\n",
        "print(List)\n",
        "\n"
      ],
      "execution_count": null,
      "outputs": [
        {
          "output_type": "stream",
          "text": [
            "['ABC', 'DEF', 'GHI', 'JKL']\n",
            "['ABC', 'JKL', 'GHI', 'DEF']\n"
          ],
          "name": "stdout"
        }
      ]
    },
    {
      "cell_type": "markdown",
      "metadata": {
        "id": "IiUqRAv1hTqV",
        "colab_type": "text"
      },
      "source": [
        "Q4:Choose variables of appropriate data type to store the information of the following table in a way that if someone inputs the ID, it will show all the information of that student.  [8]\n",
        "\tStudent Table:\n",
        "\n",
        "Input:\n",
        "12\n",
        "Output:\n",
        "ID: 12, First Name: Haley, Last Name: Martinez, Email: hmartinez@univerity.edu, Year of Birth 1993\n"
      ]
    },
    {
      "cell_type": "code",
      "metadata": {
        "id": "Yqny6tmQhjm7",
        "colab_type": "code",
        "colab": {}
      },
      "source": [
        "L = {\n",
        "    1     : {\n",
        "                \"ID\"            : \"1\",\n",
        "                \"Fist Name\"     : \"Peter\",\n",
        "                \"Last Name\"     : \"Lee\",\n",
        "                \"Email\"         : \"plee@university.edu\",\n",
        "                \"Year of Birth\" : \"1992\"\n",
        "            },\n",
        "    2     : {\n",
        "                \"ID\"            : \"2\",\n",
        "                \"Fist Name\"     : \"Jonathan\",\n",
        "                \"Last Name\"     : \"Edwards\",\n",
        "                \"Email\"         : \"jedwards@university.edu\",\n",
        "                \"Year of Birth\" : \"1994\"\n",
        "            },\n",
        "    3     : {\n",
        "                \"ID\"            : \"3\",\n",
        "                \"Fist Name\"     : \"Marilyn\",\n",
        "                \"Last Name\"     : \"Johnson\",\n",
        "                \"Email\"         : \"mjohnson@university.edu\",\n",
        "                \"Year of Birth\" : \"1993\"\n",
        "            },\n",
        "    6     : {\n",
        "                \"ID\"            : \"6\",\n",
        "                \"Fist Name\"     : \"Joe\",\n",
        "                \"Last Name\"     : \"kim\",\n",
        "                \"Email\"         : \"jkim@university.edu\",\n",
        "                \"Year of Birth\" : \"1992\"\n",
        "            },\n",
        "    12     :{\n",
        "              \"ID\"            : \"12\",\n",
        "              \"Fist Name\"     : \"Haley\",\n",
        "              \"Last Name\"     : \"Martinez\",\n",
        "              \"Email\"         : \"hmartinez@university.edu\",\n",
        "              \"Year of Birth\" : \"1993\"\n",
        "            }\n",
        "}"
      ],
      "execution_count": null,
      "outputs": []
    },
    {
      "cell_type": "code",
      "metadata": {
        "id": "OwdMWb_3l4Yl",
        "colab_type": "code",
        "colab": {
          "base_uri": "https://localhost:8080/",
          "height": 101
        },
        "outputId": "ac87371d-238c-4ce2-e35d-7145fa2d78af"
      },
      "source": [
        "L[12]"
      ],
      "execution_count": null,
      "outputs": [
        {
          "output_type": "execute_result",
          "data": {
            "text/plain": [
              "{'Email': 'hmartinez@university.edu',\n",
              " 'Fist Name': 'Haley',\n",
              " 'ID': '12',\n",
              " 'Last Name': 'Martinez',\n",
              " 'Year of Birth': '1993'}"
            ]
          },
          "metadata": {
            "tags": []
          },
          "execution_count": 10
        }
      ]
    }
  ]
}